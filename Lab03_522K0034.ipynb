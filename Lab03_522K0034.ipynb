{
  "nbformat": 4,
  "nbformat_minor": 0,
  "metadata": {
    "colab": {
      "provenance": []
    },
    "kernelspec": {
      "name": "python3",
      "display_name": "Python 3"
    },
    "language_info": {
      "name": "python"
    }
  },
  "cells": [
    {
      "cell_type": "code",
      "source": [
        "import nltk\n",
        "from nltk.tokenize import word_tokenize\n",
        "nltk.download('punkt_tab')\n",
        "\n",
        "sample_sentences = [\n",
        "    \"The quick brown fox jumps over the lazy dog near the riverbank.\",\n",
        "    \"She packed her bags and moved to a small cottage in the mountains.\",\n",
        "    \"He always brings a cup of hot coffee before starting his morning work.\",\n",
        "    \"They traveled across Europe by train, enjoying the scenic countryside views.\",\n",
        "    \"We should focus on our long-term goals rather than temporary distractions.\",\n",
        "    \"Despite the stormy weather, the hikers reached the summit before sunset.\",\n",
        "    \"The scientist carefully recorded every observation in her laboratory notebook.\",\n",
        "    \"Reading a good book before bed helps me sleep better at night.\",\n",
        "    \"I met an old friend unexpectedly during my trip to New York City.\",\n",
        "    \"The museum had an impressive collection of rare and ancient artifacts.\",\n",
        "    \"Learning a new language opens up many opportunities for travel and career.\",\n",
        "    \"He apologized sincerely for the mistake and promised to improve next time.\",\n",
        "    \"The children spent the afternoon building sandcastles on the sunny beach.\",\n",
        "    \"Technology continues to change how we communicate and interact with others.\",\n",
        "    \"After weeks of training, she finally completed the marathon successfully.\",\n",
        "    \"They renovated the old house and transformed it into a beautiful home.\",\n",
        "    \"The teacher explained the difficult concept with clear and simple examples.\",\n",
        "    \"We were amazed by the stunning colors of the sunset over the ocean.\",\n",
        "    \"He played the piano beautifully, impressing everyone at the concert hall.\",\n",
        "    \"Cooking with fresh ingredients makes every meal more delicious and healthy.\"\n",
        "]\n",
        "tokenized_sentences = [word_tokenize(sent.lower()) for sent in sample_sentences]\n",
        "tokens = [token for sent in tokenized_sentences for token in sent]\n",
        "\n",
        "print(f\"Number of tokens: {len(tokens)}\")"
      ],
      "metadata": {
        "colab": {
          "base_uri": "https://localhost:8080/"
        },
        "id": "0MmUen1YY_CV",
        "outputId": "761aa507-b74f-4b48-9c37-bfdb30b35036"
      },
      "execution_count": 11,
      "outputs": [
        {
          "output_type": "stream",
          "name": "stdout",
          "text": [
            "Number of tokens: 255\n"
          ]
        },
        {
          "output_type": "stream",
          "name": "stderr",
          "text": [
            "[nltk_data] Downloading package punkt_tab to /root/nltk_data...\n",
            "[nltk_data]   Package punkt_tab is already up-to-date!\n"
          ]
        }
      ]
    },
    {
      "cell_type": "code",
      "source": [
        "from collections import Counter\n",
        "\n",
        "vocab_size = 10000\n",
        "special_tokens = [\"<unk>\", \"<pad>\"]\n",
        "freq = Counter(tokens).most_common(vocab_size - len(special_tokens))\n",
        "vocab = special_tokens + [w.lower() for w, _ in freq]\n",
        "\n",
        "word2idx = {w: i for i, w in enumerate(vocab)}\n",
        "idx2word = {i: w for w, i in word2idx.items()}\n",
        "\n",
        "# Encode corpus\n",
        "encoded = [word2idx.get(w.lower(), word2idx[\"<unk>\"]) for w in tokens]"
      ],
      "metadata": {
        "id": "SES4l88rMzbh"
      },
      "execution_count": 12,
      "outputs": []
    },
    {
      "cell_type": "code",
      "source": [
        "from collections import Counter\n",
        "vocab_size = 10000\n",
        "special_tokens = [\"<unk>\", \"<pad>\"]\n",
        "freq = Counter(tokens).most_common(vocab_size - len(special_tokens))"
      ],
      "metadata": {
        "id": "nynF4hCkmSYG"
      },
      "execution_count": 13,
      "outputs": []
    },
    {
      "cell_type": "code",
      "source": [
        "import torch\n",
        "from torch.utils.data import Dataset, DataLoader\n",
        "\n",
        "class SampleDataset(Dataset):\n",
        "    def __init__(self, data, context_size):\n",
        "        self.data = data\n",
        "        self.context_size = context_size\n",
        "\n",
        "    def __len__(self):\n",
        "        return len(self.data) - self.context_size\n",
        "\n",
        "    def __getitem__(self, idx):\n",
        "        context = self.data[idx: idx + self.context_size - 1]\n",
        "        target = self.data[idx + self.context_size - 1]\n",
        "        return torch.tensor(context), torch.tensor(target)\n",
        "\n",
        "\n",
        "# Split into train/val\n",
        "split_idx = int(len(encoded) * 0.8)\n",
        "train_data = encoded[:split_idx]\n",
        "val_data = encoded[split_idx:]\n",
        "\n",
        "context_size = 5\n",
        "train_loader = DataLoader(SampleDataset(train_data, context_size), batch_size=128, shuffle=True)\n",
        "val_loader = DataLoader(SampleDataset(val_data, context_size), batch_size=128)"
      ],
      "metadata": {
        "id": "hC4wvH50M2Er"
      },
      "execution_count": 14,
      "outputs": []
    },
    {
      "cell_type": "code",
      "source": [
        "import torch\n",
        "import torch.nn as nn\n",
        "import torch.nn.functional as F\n",
        "\n",
        "class BengioNeuralLM(nn.Module):\n",
        "    def __init__(self, vocab_size, embed_size, context_size, hidden_size):\n",
        "        super().__init__()\n",
        "        self.vocab_size = vocab_size\n",
        "        self.context_size = context_size\n",
        "        self.embed_size = embed_size\n",
        "\n",
        "        # Word embeddings C(i) ∈ ℝ^m\n",
        "        self.embed = nn.Embedding(vocab_size, embed_size)\n",
        "\n",
        "        # Hidden layer: H ∈ ℝ^{h × (n−1)m}, d ∈ ℝ^h\n",
        "        self.H = nn.Linear((context_size - 1) * embed_size, hidden_size)\n",
        "\n",
        "        # Output weights: U ∈ ℝ^{|V| × h}, W ∈ ℝ^{|V| × (n−1)m}, b ∈ ℝ^{|V|}\n",
        "        self.U = nn.Linear(hidden_size, vocab_size, bias=False)\n",
        "        self.W = nn.Linear((context_size - 1) * embed_size, vocab_size, bias=False)\n",
        "        self.b = nn.Parameter(torch.zeros(vocab_size))\n",
        "\n",
        "    def forward(self, x):\n",
        "        \"\"\"\n",
        "        x: tensor of shape (batch_size, context_size - 1)\n",
        "        \"\"\"\n",
        "        # Step 1: get word embeddings for each word in context\n",
        "        embedded = self.embed(x)  # (batch_size, context_size-1, embed_size)\n",
        "\n",
        "        # Step 2: flatten the embeddings\n",
        "        x_flat = embedded.view(embedded.size(0), -1)  # (batch_size, (n-1)*m)\n",
        "\n",
        "        # Step 3: hidden activation: tanh(d + Hx)\n",
        "        h = torch.tanh(self.H(x_flat))  # (batch_size, h)\n",
        "\n",
        "        # Step 4: compute logits: y = b + Wx + Uh\n",
        "        logits = self.b + self.W(x_flat) + self.U(h)  # (batch_size, |V|)\n",
        "\n",
        "        # Step 5: log-probabilities over vocabulary\n",
        "        return F.log_softmax(logits, dim=1)"
      ],
      "metadata": {
        "id": "YLQg01N9NFj5"
      },
      "execution_count": 15,
      "outputs": []
    },
    {
      "cell_type": "code",
      "source": [
        "device = torch.device(\"cuda\" if torch.cuda.is_available() else \"cpu\")\n",
        "\n",
        "model = BengioNeuralLM(\n",
        "    vocab_size=10000,       # V = 10,000\n",
        "    embed_size=30,          # m = 30\n",
        "    context_size=5,         # n = 5\n",
        "    hidden_size=100         # h = 100\n",
        ").to(device)"
      ],
      "metadata": {
        "id": "DrbV1H9xNM_f"
      },
      "execution_count": 16,
      "outputs": []
    },
    {
      "cell_type": "code",
      "source": [
        "optimizer = torch.optim.SGD(model.parameters(), lr=0.1, weight_decay=1e-4)\n",
        "criterion = nn.NLLLoss()"
      ],
      "metadata": {
        "id": "6TUbRZI6NSf-"
      },
      "execution_count": 17,
      "outputs": []
    },
    {
      "cell_type": "code",
      "source": [
        "num_epoch = 100\n",
        "train_losses = []\n",
        "val_ppls = []\n",
        "\n",
        "for epoch in range(num_epoch):\n",
        "    model.train()\n",
        "    total_loss = 0\n",
        "\n",
        "    for step, (x, y) in enumerate(train_loader):\n",
        "        x, y = x.to(device), y.to(device)\n",
        "\n",
        "        optimizer.zero_grad()\n",
        "        log_probs = model(x)\n",
        "        loss = criterion(log_probs, y)\n",
        "        loss.backward()\n",
        "        optimizer.step()\n",
        "\n",
        "        total_loss += loss.item()\n",
        "        #if step % 100 == 0:\n",
        "        #    print(f\"Epoch {epoch+1} | Step {step} | Loss: {loss.item():.4f}\")\n",
        "\n",
        "    avg_train_loss = total_loss / len(train_loader)\n",
        "\n",
        "    train_losses.append(avg_train_loss)\n",
        "\n",
        "    print(f\"Epoch {epoch+1} done. Train Loss: {avg_train_loss:.4f}\")"
      ],
      "metadata": {
        "colab": {
          "base_uri": "https://localhost:8080/"
        },
        "id": "KSuEw0cNNe3r",
        "outputId": "3d6cc25b-c9e5-4c24-aed5-3160047b2863"
      },
      "execution_count": 18,
      "outputs": [
        {
          "output_type": "stream",
          "name": "stdout",
          "text": [
            "Epoch 1 done. Train Loss: 9.4331\n",
            "Epoch 2 done. Train Loss: 9.2807\n",
            "Epoch 3 done. Train Loss: 9.1097\n",
            "Epoch 4 done. Train Loss: 8.9652\n",
            "Epoch 5 done. Train Loss: 8.7998\n",
            "Epoch 6 done. Train Loss: 8.6034\n",
            "Epoch 7 done. Train Loss: 8.4391\n",
            "Epoch 8 done. Train Loss: 8.2716\n",
            "Epoch 9 done. Train Loss: 8.0699\n",
            "Epoch 10 done. Train Loss: 7.8986\n",
            "Epoch 11 done. Train Loss: 7.7728\n",
            "Epoch 12 done. Train Loss: 7.5915\n",
            "Epoch 13 done. Train Loss: 7.4025\n",
            "Epoch 14 done. Train Loss: 7.2344\n",
            "Epoch 15 done. Train Loss: 7.0794\n",
            "Epoch 16 done. Train Loss: 6.8799\n",
            "Epoch 17 done. Train Loss: 6.7335\n",
            "Epoch 18 done. Train Loss: 6.5529\n",
            "Epoch 19 done. Train Loss: 6.2880\n",
            "Epoch 20 done. Train Loss: 6.1394\n",
            "Epoch 21 done. Train Loss: 5.9873\n",
            "Epoch 22 done. Train Loss: 5.8197\n",
            "Epoch 23 done. Train Loss: 5.6484\n",
            "Epoch 24 done. Train Loss: 5.4306\n",
            "Epoch 25 done. Train Loss: 5.2373\n",
            "Epoch 26 done. Train Loss: 5.1105\n",
            "Epoch 27 done. Train Loss: 4.8934\n",
            "Epoch 28 done. Train Loss: 4.7119\n",
            "Epoch 29 done. Train Loss: 4.4605\n",
            "Epoch 30 done. Train Loss: 4.4253\n",
            "Epoch 31 done. Train Loss: 4.1915\n",
            "Epoch 32 done. Train Loss: 4.0291\n",
            "Epoch 33 done. Train Loss: 3.8909\n",
            "Epoch 34 done. Train Loss: 3.7100\n",
            "Epoch 35 done. Train Loss: 3.5095\n",
            "Epoch 36 done. Train Loss: 3.3994\n",
            "Epoch 37 done. Train Loss: 3.2989\n",
            "Epoch 38 done. Train Loss: 3.1197\n",
            "Epoch 39 done. Train Loss: 2.9481\n",
            "Epoch 40 done. Train Loss: 2.8613\n",
            "Epoch 41 done. Train Loss: 2.7099\n",
            "Epoch 42 done. Train Loss: 2.5356\n",
            "Epoch 43 done. Train Loss: 2.4631\n",
            "Epoch 44 done. Train Loss: 2.3020\n",
            "Epoch 45 done. Train Loss: 2.2332\n",
            "Epoch 46 done. Train Loss: 2.0875\n",
            "Epoch 47 done. Train Loss: 1.9735\n",
            "Epoch 48 done. Train Loss: 1.8777\n",
            "Epoch 49 done. Train Loss: 1.7746\n",
            "Epoch 50 done. Train Loss: 1.6840\n",
            "Epoch 51 done. Train Loss: 1.5716\n",
            "Epoch 52 done. Train Loss: 1.4895\n",
            "Epoch 53 done. Train Loss: 1.3832\n",
            "Epoch 54 done. Train Loss: 1.3368\n",
            "Epoch 55 done. Train Loss: 1.2374\n",
            "Epoch 56 done. Train Loss: 1.1181\n",
            "Epoch 57 done. Train Loss: 1.0514\n",
            "Epoch 58 done. Train Loss: 1.0125\n",
            "Epoch 59 done. Train Loss: 0.9666\n",
            "Epoch 60 done. Train Loss: 0.8883\n",
            "Epoch 61 done. Train Loss: 0.8400\n",
            "Epoch 62 done. Train Loss: 0.7891\n",
            "Epoch 63 done. Train Loss: 0.7568\n",
            "Epoch 64 done. Train Loss: 0.7080\n",
            "Epoch 65 done. Train Loss: 0.6622\n",
            "Epoch 66 done. Train Loss: 0.6190\n",
            "Epoch 67 done. Train Loss: 0.5851\n",
            "Epoch 68 done. Train Loss: 0.5502\n",
            "Epoch 69 done. Train Loss: 0.5141\n",
            "Epoch 70 done. Train Loss: 0.4805\n",
            "Epoch 71 done. Train Loss: 0.4652\n",
            "Epoch 72 done. Train Loss: 0.4422\n",
            "Epoch 73 done. Train Loss: 0.4132\n",
            "Epoch 74 done. Train Loss: 0.3899\n",
            "Epoch 75 done. Train Loss: 0.3772\n",
            "Epoch 76 done. Train Loss: 0.3604\n",
            "Epoch 77 done. Train Loss: 0.3374\n",
            "Epoch 78 done. Train Loss: 0.3293\n",
            "Epoch 79 done. Train Loss: 0.3124\n",
            "Epoch 80 done. Train Loss: 0.2997\n",
            "Epoch 81 done. Train Loss: 0.2871\n",
            "Epoch 82 done. Train Loss: 0.2691\n",
            "Epoch 83 done. Train Loss: 0.2672\n",
            "Epoch 84 done. Train Loss: 0.2597\n",
            "Epoch 85 done. Train Loss: 0.2447\n",
            "Epoch 86 done. Train Loss: 0.2382\n",
            "Epoch 87 done. Train Loss: 0.2249\n",
            "Epoch 88 done. Train Loss: 0.2174\n",
            "Epoch 89 done. Train Loss: 0.2098\n",
            "Epoch 90 done. Train Loss: 0.2036\n",
            "Epoch 91 done. Train Loss: 0.1958\n",
            "Epoch 92 done. Train Loss: 0.1894\n",
            "Epoch 93 done. Train Loss: 0.1842\n",
            "Epoch 94 done. Train Loss: 0.1773\n",
            "Epoch 95 done. Train Loss: 0.1749\n",
            "Epoch 96 done. Train Loss: 0.1712\n",
            "Epoch 97 done. Train Loss: 0.1645\n",
            "Epoch 98 done. Train Loss: 0.1607\n",
            "Epoch 99 done. Train Loss: 0.1575\n",
            "Epoch 100 done. Train Loss: 0.1539\n"
          ]
        }
      ]
    },
    {
      "cell_type": "code",
      "source": [
        "import matplotlib.pyplot as plt\n",
        "\n",
        "fig, ax1 = plt.subplots(figsize=(8, 5))\n",
        "\n",
        "# Training Loss\n",
        "ax1.set_xlabel('Epoch')\n",
        "ax1.set_ylabel('Train Loss', color='tab:blue')\n",
        "ax1.plot(train_losses, label='Train Loss', color='tab:blue')\n",
        "ax1.tick_params(axis='y', labelcolor='tab:blue')\n",
        "ax1.grid(True)\n",
        "\n",
        "# Show\n",
        "fig.suptitle('Training Loss and Validation Perplexity Over Epochs')\n",
        "fig.tight_layout()\n",
        "plt.show()"
      ],
      "metadata": {
        "colab": {
          "base_uri": "https://localhost:8080/",
          "height": 512
        },
        "id": "vk-2m5FiXCBi",
        "outputId": "a76fb788-bebe-4ee0-844e-222e7193ebb9"
      },
      "execution_count": 19,
      "outputs": [
        {
          "output_type": "display_data",
          "data": {
            "text/plain": [
              "<Figure size 800x500 with 1 Axes>"
            ],
            "image/png": "[encoded data removed]"
          },
          "metadata": {}
        }
      ]
    },
    {
      "cell_type": "code",
      "source": [
        "def predict_next(model, context_words, topk=5):\n",
        "    model.eval()\n",
        "    context_ids = [word2idx.get(w, word2idx['<unk>']) for w in context_words]\n",
        "    context_tensor = torch.tensor([context_ids], device=device)\n",
        "    with torch.no_grad():\n",
        "        log_probs = model(context_tensor)\n",
        "        topk_probs, topk_ids = torch.topk(log_probs, topk)\n",
        "        return [idx2word.get(i.item(), '<unk>') for i in topk_ids[0]]\n",
        "\n",
        "# Example\n",
        "print(predict_next(model, \"the hikers reached the\".split()))"
      ],
      "metadata": {
        "colab": {
          "base_uri": "https://localhost:8080/"
        },
        "id": "8xPBI4AxPPH3",
        "outputId": "a2b5e9cd-af05-489f-e693-db045d515c07"
      },
      "execution_count": 21,
      "outputs": [
        {
          "output_type": "stream",
          "name": "stdout",
          "text": [
            "['summit', 'afternoon', 'impressive', 'always', 'the']\n"
          ]
        }
      ]
    },
    {
      "cell_type": "code",
      "source": [],
      "metadata": {
        "id": "uSe-9IBjSU5m"
      },
      "execution_count": null,
      "outputs": []
    }
  ]
}